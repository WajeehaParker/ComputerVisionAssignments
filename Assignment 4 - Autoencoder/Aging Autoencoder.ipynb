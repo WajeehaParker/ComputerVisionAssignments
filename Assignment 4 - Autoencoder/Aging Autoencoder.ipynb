{
 "cells": [
  {
   "cell_type": "code",
   "execution_count": 9,
   "metadata": {},
   "outputs": [],
   "source": [
    "import tensorflow as tf\n",
    "from tensorflow.keras import layers, models\n",
    "from tensorflow.keras.optimizers import Adam\n",
    "from tensorflow.keras.preprocessing.image import ImageDataGenerator\n",
    "import matplotlib.pyplot as plt\n",
    "import numpy as np\n",
    "import os"
   ]
  },
  {
   "cell_type": "code",
   "execution_count": null,
   "metadata": {},
   "outputs": [],
   "source": [
    "# Define the path to the UTKFace dataset\n",
    "dataset_path = 'UTKFace'\n",
    "\n",
    "# Create an ImageDataGenerator for data augmentation and loading\n",
    "datagen = ImageDataGenerator(\n",
    "    rescale=1./255,\n",
    "    horizontal_flip=True\n",
    ")\n",
    "batch_size = 128\n",
    "\n",
    "# Load and preprocess UTKFace dataset\n",
    "train_generator = datagen.flow_from_directory(\n",
    "    dataset_path,\n",
    "    target_size=(256, 256),\n",
    "    batch_size=batch_size,\n",
    "    class_mode='input',  # Use 'input' as class_mode for autoencoder\n",
    "    color_mode='grayscale'  # Use 'grayscale' for black and white images\n",
    ")"
   ]
  },
  {
   "cell_type": "code",
   "execution_count": 4,
   "metadata": {},
   "outputs": [],
   "source": [
    "# Define the Autoencoder model\n",
    "input_img = layers.Input(shape=(256, 256, 1))  # Adjusted input shape\n",
    "\n",
    "# Encoder\n",
    "x = layers.Conv2D(32, (3, 3), activation='relu', padding='same')(input_img)\n",
    "x = layers.MaxPooling2D((2, 2), padding='same')(x)\n",
    "x = layers.Conv2D(16, (3, 3), activation='relu', padding='same')(x)\n",
    "x = layers.MaxPooling2D((2, 2), padding='same')(x)\n",
    "x = layers.Conv2D(8, (3, 3), activation='relu', padding='same')(x)\n",
    "encoded = layers.MaxPooling2D((2, 2), padding='same')(x)\n",
    "\n",
    "# Decoder\n",
    "x = layers.Conv2D(8, (3, 3), activation='relu', padding='same')(encoded)\n",
    "x = layers.UpSampling2D((2, 2))(x)\n",
    "x = layers.Conv2D(16, (3, 3), activation='relu', padding='same')(x)\n",
    "x = layers.UpSampling2D((2, 2))(x)\n",
    "x = layers.Conv2D(32, (3, 3), activation='relu', padding='same')(x)\n",
    "x = layers.UpSampling2D((2, 2))(x)\n",
    "decoded = layers.Conv2D(1, (3, 3), activation='sigmoid', padding='same')(x)\n",
    "\n",
    "autoencoder = models.Model(input_img, decoded)\n",
    "autoencoder.compile(optimizer=Adam(learning_rate=0.001), loss='mse')"
   ]
  },
  {
   "cell_type": "code",
   "execution_count": null,
   "metadata": {},
   "outputs": [],
   "source": [
    "# Train the Autoencoder\n",
    "autoencoder.fit(train_generator, epochs=10, steps_per_epoch=len(train_generator), shuffle=True)"
   ]
  },
  {
   "cell_type": "code",
   "execution_count": null,
   "metadata": {},
   "outputs": [],
   "source": [
    "# Display the original and reconstructed images\n",
    "n = 10\n",
    "for i in range(n):\n",
    "    # Get a batch of images from the generator\n",
    "    batch, _ = train_generator.next()\n",
    "\n",
    "    # Encode and decode the batch\n",
    "    decoded_batch = autoencoder.predict(batch)\n",
    "\n",
    "    # Display the original and reconstructed images\n",
    "    plt.figure(figsize=(20, 4))\n",
    "    for j in range(n):\n",
    "        # Original Images\n",
    "        ax = plt.subplot(2, n, j + 1)\n",
    "        plt.imshow(batch[j].reshape(256, 256), interpolation='nearest')\n",
    "        plt.gray()\n",
    "        ax.get_xaxis().set_visible(False)\n",
    "        ax.get_yaxis().set_visible(False)\n",
    "\n",
    "        # Reconstructed Images\n",
    "        ax = plt.subplot(2, n, j + 1 + n)\n",
    "        plt.imshow(decoded_batch[j].reshape(256, 256), interpolation='nearest')\n",
    "        plt.gray()\n",
    "        ax.get_xaxis().set_visible(False)\n",
    "        ax.get_yaxis().set_visible(False)\n",
    "    plt.show()"
   ]
  }
 ],
 "metadata": {
  "kernelspec": {
   "display_name": "Python 3",
   "language": "python",
   "name": "python3"
  },
  "language_info": {
   "codemirror_mode": {
    "name": "ipython",
    "version": 3
   },
   "file_extension": ".py",
   "mimetype": "text/x-python",
   "name": "python",
   "nbconvert_exporter": "python",
   "pygments_lexer": "ipython3",
   "version": "3.11.5"
  },
  "orig_nbformat": 4
 },
 "nbformat": 4,
 "nbformat_minor": 2
}
